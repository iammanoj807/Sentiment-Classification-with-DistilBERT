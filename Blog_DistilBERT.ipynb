{
 "cells": [
  {
   "cell_type": "markdown",
   "id": "4da88a6e",
   "metadata": {},
   "source": [
    "# DistilBERT: A Leaner, Faster BERT\n",
    "\n",
    "## Introduction: DistilBERT – A Leaner, Faster BERT\n",
    "\n",
    "\n",
    "BERT revolutionized Natural Language Processing (NLP) by introducing deep bidirectional transformers trained on massive corpora. It set new state-of-the-art results on a wide range of tasks. But with 110 million parameters, BERT is computationally heavy, slow, and difficult to deploy in real-time or resource-constrained environments. Then in 2019, Victor Sanh and colleagues published [\"DistilBERT, a distilled version of BERT: smaller, faster, cheaper and lighter\"](https://arxiv.org/abs/1910.01108), a groundbreaking paper that tackles the computational heft of BERT, the titan of natural language processing (NLP). **DistilBERT** shrinks BERT by 40%, speeds it up by 60%, and still retains 97% of its language understanding prowess. How? Through **knowledge distillation**, an excellent technique that teaches a smaller model to mimic its giant equivalent.\n",
    "\n",
    "For fellow deep learning students, this blog explores DistilBERT's fundamental concepts, design, and functionality. \n",
    "We'll even dig into the code to fine-tune it using the IMDb dataset, analyze its Strengths and limits with some fresh visualizations, and think about its impact as we head into 2025. Why does this matter? Because DistilBERT makes cutting-edge NLP possible on things like smartphones, bringing AI to everyone. Ready to jump in?"
   ]
  },
  {
   "cell_type": "markdown",
   "id": "85ada8b0",
   "metadata": {},
   "source": [
    "## Background: The Rise and Challenges of BERT\n",
    "\n",
    "When **BERT** (Bidirectional Encoder Representations from Transformers) was published in 2018, it changed the natural language processing sector. In quantitative measures, including the GLUE and SQuAD, BERT performed well on a variety of tasks, including text classification and reading text in bidirections, thereby indicating a new paradigm of architecture that can use both temporal and contextual features. There is, however, the problem with the number of parameters essential in the model, especially the 110 million parameters of a BERT-base model, that present a serious computational problem. Memory and power restrictions complicate the problem of deployment, and training and inference time is also slow. Besides, operating such models has a significant environmental cost.\n",
    "\n",
    "The DistilBERT model has been used to fill this gap, with the model performing only slightly lower than BERT when using significantly lower computational resources. DistilBERT was trained using knowledge distillation and the semantic Vector of a pre-trained BERT-base model was condensed to a smaller model. With this compression process, distributional properties of the original BERT-base representation are maintained, but the number of parameters dramatically decreased."
   ]
  },
  {
   "cell_type": "markdown",
   "id": "4630bcf1-d06e-4090-b7b2-77deda742d24",
   "metadata": {},
   "source": [
    "## Knowledge Distillation: Teaching a Smaller Model to Think Big\n",
    "\n",
    "Knowledge distillation is a compression method used by a model, referred to as a **student model**, to replicate a large **teacher model**. Instead of the student learning via ground-truth labels it is presented the soft predictions of the teacher which encapsulate more knowledge.\n",
    "\n",
    "### Analogy\n",
    "Consider a top teacher (BERT) who gives a rationale on every response. Student (DistilBERT) will learn not only the correct answer, but also the causes of other possible options. This is useful in the generalization of the student.\n",
    "\n",
    "### DistilBERT’s pre-training uses a **triple loss**:\n",
    "- **Distillation Loss (\\( L_{\\text{ce}} \\))**: Alters the softened probabilities of the student and compares them with that of the teacher according to the cross-entropy. Softening takes a temperature \\( T \\) in the softmax:\n",
    "  $$\n",
    "  p_i = \\frac{\\exp(z_i / T)}{\\sum_j \\exp(z_j / T)}\n",
    "  $$\n",
    "  The loss is defined as:\n",
    "  $$\n",
    "  L_{\\text{ce}} = - \\sum_i p_i^{(t)} \\log p_i^{(s)}\n",
    "  $$\n",
    "  where \\( p_i^{(t)} \\) is the teacher’s softened probability for token \\( i \\), \\( p_i^{(s)} \\) is the student’s corresponding probability, and a higher \\( T \\) smooths the distribution to help the student learn nuanced patterns.\n",
    "  \n",
    "  \n",
    "- **Masked Language Modeling Loss (`L_mlm`)**: Like BERT, predicts masked tokens to learn language structure.\n",
    "\n",
    "\n",
    "- **Cosine Embedding Loss (`L_cos`)**: Makes the hidden states of the student coincides with the teacher in similar internal depictions.\n",
    "\n",
    "It is similar to the process of training the apprentice not only the final dish but also the way of thinking of the chef, which makes DistilBERT both efficient and effective."
   ]
  },
  {
   "cell_type": "markdown",
   "id": "386efa49-d026-46b4-a412-2f704cb66771",
   "metadata": {
    "slideshow": {
     "slide_type": ""
    },
    "tags": []
   },
   "source": [
    "## DistilBERT Architecture: What’s Different from BERT?\n",
    "\n",
    "**DistilBERT** is the abridged version of BERT-base, designed to be smaller and faster while preserving most of its language understanding capabilities. Key differences include:\n",
    "\n",
    "- **Fewer Layers**: DistilBERT uses 6 Transformer layers compared to BERT’s 12, reducing parameters from 110 million to 66 million (40% smaller).\n",
    "\n",
    "\n",
    "- **Removed Components**:\n",
    "    - *Token-type embeddings*: They were omitted in order to simplify the model since they are not applicable to question answering or other tasks in BERT and are only applied at DistilBERT.\n",
    "    - *Pooler layer*: Not required to make further simplification and does not have a big impact on general tasks.\n",
    "    \n",
    "    \n",
    "- **Initialization**: Similar to BERT, DistilBERT is initialized by use of all the other remaining layers of the BERT network and dimensionality shared to permit the quicker convergence.\n",
    "\n",
    "\n",
    "DistilBERT can be referred to as an effective sibling of BERT, which already had the core of the bidirectional Transformer but lost excess weight. This comparison could be observed in the diagram below which is retrieved on ResearchGate publication:\n",
    "\n",
    "\n",
    "<div>\n",
    "  <img src=\"https://i.ibb.co/G3nhg28k/Schematic-diagram-of-BERT-BASE-and-Distil-BERT-model-architecture.jpg\" \n",
    "       alt=\"Schematic diagram comparing BERT-base (12 layers) and DistilBERT (6 layers) architectures with Multi-Head Attention and Layer Normalization.\" width=\"1000\" >\n",
    "  <p style=\"font-style: italic; margin-top: 0.5em;\">\n",
    "    Figure: Architectural comparison of BERT-base (left, 12 layers) and DistilBERT (right, 6 layers), showing Transformer layers, Multi-Head Attention (MHA), and Layer Normalization. [Adapted from ResearchGate, <a href=\"https://www.researchgate.net/figure/Schematic-diagram-of-BERT-BASE-and-DistilBERT-model-architecture_fig1_382939584\">https://www.researchgate.net/figure/Schematic-diagram-of-BERT-BASE-and-DistilBERT-model-architecture_fig1_382939584</a>]\n",
    "  </p>\n",
    "</div>\n",
    "\n",
    "### Explaining the Diagram\n",
    "\n",
    "\n",
    "- **BERT-base (Left)**: is comprised of 12 Transformer layers, each consisting of Multi-Head Attention (MHA) and Feed Forward Network (FFN) that are enclosed within Layer Normalization. Embedding Layer operates on a tokenized text, and a Predictive Layer crowns a tower, and it reflected on the BERTs immeasurably deep characteristics of a bidirectional model.\n",
    "\n",
    "\n",
    "- **DistilBERT (Right)**: Is a mirror to BERT that cuts its layers in half (to 6), retaining MHA, FFN and Layer Normalization. The result of this increase yields a 60 percent boost to the rate of inference as determined by the original researchers.\n",
    "\n",
    "\n",
    "- **Missing Elements**: The diagram conceals deleted token-type embedding and pooler layer. They were not also included in DistilBERT because they were focusing on efficiency which suits its cost-efficient character of token-type embeddings and the support of pooler layer as a trainable part of the classification model.\n",
    "\n",
    "\n",
    "This example explains the performance of DistilBERT and it highlights some distinctions to BERT, and a short conclusion can be made by the NLP practitioners."
   ]
  },
  {
   "cell_type": "markdown",
   "id": "1d7a2a67-17a6-4684-84f3-4baa1442f24e",
   "metadata": {},
   "source": [
    "## Experimental Results: How Does DistilBERT Perform?\n",
    "\n",
    "Its paper benchmarks performance on other datasets (GLUE, IMDb, SQuAD) and compares to BERT-base and ELMo. Here’s a summary:\n",
    "\n",
    "| **Model**     | **GLUE Macro-Score** | **IMDb Accuracy** | **SQuAD EM/F1** | **Parameters (M)** | **Inference Time (s)** |\n",
    "|---------------|----------------------|-------------------|-----------------|-------------------|-----------------------|\n",
    "| ELMo          | 68.7                 | -                 | -               | 180               | 895                   |\n",
    "| BERT-base     | 79.5                 | 93.46             | 81.2/88.5       | 110               | 668                   |\n",
    "| DistilBERT    | 77.0                 | 92.82             | 77.7/85.8       | 66                | 410                   |\n",
    "| DistilBERT (D)| -                    | -                 | 79.1/86.9       | 66                | -                     |\n",
    "\n",
    "- **GLUE**: DistilBERT scores 77.0 with 97% of the performance of BERT across nine tasks.\n",
    "- **IMDb**: Attains 92.82% accuracy, which is close to BERT’s 93.46%.\n",
    "- **SQuAD**: Performance is 77.7/85.8 (EM/F1) and after distillation it improves to 79.1/86.9.\n",
    "- **Efficiency**: 60% faster (410s vs. 668s on STS-B) and 40% fewer parameters (66M vs. 110M).\n",
    "\n",
    "DistilBERT’s performance and efficiency trade-offs enable NLP to be adopted in practice for more production systems."
   ]
  },
  {
   "cell_type": "markdown",
   "id": "f421bf6b-3e0d-4366-a6c6-1f7379901154",
   "metadata": {},
   "source": [
    "## Practical Implementation: Fine-Tuning DistilBERT on IMDb\n",
    "\n",
    "To demonstrate, how DistilBERT is used, we will fine-tune it on the sentiment analysis task using IMDb dataset, with the Hugging Face Transformers library. The following code loads the dataset, tokenizing, and training the model for 3 epochs, and measuring the performance, achieving ~87.58% accuracy."
   ]
  },
  {
   "cell_type": "code",
   "execution_count": 2,
   "id": "8bd598fb-d34e-444d-a9ac-084d21f05661",
   "metadata": {},
   "outputs": [
    {
     "name": "stdout",
     "output_type": "stream",
     "text": [
      "Using device: mps\n"
     ]
    },
    {
     "name": "stderr",
     "output_type": "stream",
     "text": [
      "Some weights of DistilBertForSequenceClassification were not initialized from the model checkpoint at distilbert-base-uncased and are newly initialized: ['classifier.bias', 'classifier.weight', 'pre_classifier.bias', 'pre_classifier.weight']\n",
      "You should probably TRAIN this model on a down-stream task to be able to use it for predictions and inference.\n",
      "/opt/anaconda3/lib/python3.12/site-packages/torch/utils/data/dataloader.py:683: UserWarning: 'pin_memory' argument is set as true but not supported on MPS now, then device pinned memory won't be used.\n",
      "  warnings.warn(warn_msg)\n"
     ]
    },
    {
     "data": {
      "text/html": [
       "\n",
       "    <div>\n",
       "      \n",
       "      <progress value='3750' max='3750' style='width:300px; height:20px; vertical-align: middle;'></progress>\n",
       "      [3750/3750 15:04, Epoch 3/3]\n",
       "    </div>\n",
       "    <table border=\"1\" class=\"dataframe\">\n",
       "  <thead>\n",
       " <tr style=\"text-align: left;\">\n",
       "      <th>Step</th>\n",
       "      <th>Training Loss</th>\n",
       "    </tr>\n",
       "  </thead>\n",
       "  <tbody>\n",
       "    <tr>\n",
       "      <td>500</td>\n",
       "      <td>0.384100</td>\n",
       "    </tr>\n",
       "    <tr>\n",
       "      <td>1000</td>\n",
       "      <td>0.324200</td>\n",
       "    </tr>\n",
       "    <tr>\n",
       "      <td>1500</td>\n",
       "      <td>0.254000</td>\n",
       "    </tr>\n",
       "    <tr>\n",
       "      <td>2000</td>\n",
       "      <td>0.202400</td>\n",
       "    </tr>\n",
       "    <tr>\n",
       "      <td>2500</td>\n",
       "      <td>0.198500</td>\n",
       "    </tr>\n",
       "    <tr>\n",
       "      <td>3000</td>\n",
       "      <td>0.103400</td>\n",
       "    </tr>\n",
       "    <tr>\n",
       "      <td>3500</td>\n",
       "      <td>0.106600</td>\n",
       "    </tr>\n",
       "  </tbody>\n",
       "</table><p>"
      ],
      "text/plain": [
       "<IPython.core.display.HTML object>"
      ]
     },
     "metadata": {},
     "output_type": "display_data"
    },
    {
     "name": "stderr",
     "output_type": "stream",
     "text": [
      "/opt/anaconda3/lib/python3.12/site-packages/torch/utils/data/dataloader.py:683: UserWarning: 'pin_memory' argument is set as true but not supported on MPS now, then device pinned memory won't be used.\n",
      "  warnings.warn(warn_msg)\n",
      "/opt/anaconda3/lib/python3.12/site-packages/torch/utils/data/dataloader.py:683: UserWarning: 'pin_memory' argument is set as true but not supported on MPS now, then device pinned memory won't be used.\n",
      "  warnings.warn(warn_msg)\n",
      "/opt/anaconda3/lib/python3.12/site-packages/torch/utils/data/dataloader.py:683: UserWarning: 'pin_memory' argument is set as true but not supported on MPS now, then device pinned memory won't be used.\n",
      "  warnings.warn(warn_msg)\n"
     ]
    },
    {
     "data": {
      "text/html": [],
      "text/plain": [
       "<IPython.core.display.HTML object>"
      ]
     },
     "metadata": {},
     "output_type": "display_data"
    },
    {
     "name": "stdout",
     "output_type": "stream",
     "text": [
      "Evaluation results: {'eval_loss': 0.5448790788650513, 'eval_accuracy': 0.86672, 'eval_f1': 0.8604222520107239, 'eval_precision': 0.9030953218431235, 'eval_recall': 0.8216, 'eval_runtime': 99.3497, 'eval_samples_per_second': 251.636, 'eval_steps_per_second': 15.732, 'epoch': 3.0}\n"
     ]
    }
   ],
   "source": [
    "from transformers import DistilBertTokenizerFast, DistilBertForSequenceClassification, Trainer, TrainingArguments\n",
    "from datasets import load_dataset\n",
    "import torch\n",
    "from sklearn.metrics import accuracy_score, precision_recall_fscore_support\n",
    "\n",
    "# Check device (MPS or CPU)\n",
    "device = torch.device(\"mps\" if torch.backends.mps.is_available() else \"cpu\")\n",
    "print(f\"Using device: {device}\")\n",
    "\n",
    "# Load IMDb dataset\n",
    "dataset = load_dataset(\"imdb\")\n",
    "\n",
    "# Initialize tokenizer\n",
    "tokenizer = DistilBertTokenizerFast.from_pretrained('distilbert-base-uncased')\n",
    "\n",
    "# Tokenize dataset\n",
    "def tokenize_function(examples):\n",
    "    return tokenizer(examples['text'], padding=\"max_length\", truncation=True, max_length=128)\n",
    "tokenized_datasets = dataset.map(tokenize_function, batched=True)\n",
    "tokenized_datasets = tokenized_datasets.remove_columns([\"text\"])\n",
    "tokenized_datasets.set_format(\"torch\")\n",
    "\n",
    "# Prepare train and test sets\n",
    "train_dataset = tokenized_datasets[\"train\"].select(range(20000))\n",
    "test_dataset = tokenized_datasets[\"test\"]\n",
    "\n",
    "# Initialize model\n",
    "model = DistilBertForSequenceClassification.from_pretrained('distilbert-base-uncased', num_labels=2).to(device)\n",
    "\n",
    "# Define metrics\n",
    "def compute_metrics(pred):\n",
    "    labels = pred.label_ids\n",
    "    preds = pred.predictions.argmax(-1)\n",
    "    precision, recall, f1, _ = precision_recall_fscore_support(labels, preds, average='binary')\n",
    "    acc = accuracy_score(labels, preds)\n",
    "    return {\"accuracy\": acc, \"f1\": f1, \"precision\": precision, \"recall\": recall}\n",
    "\n",
    "# Training arguments\n",
    "training_args = TrainingArguments(\n",
    "    output_dir=\"./results\",\n",
    "    learning_rate=3e-5,\n",
    "    per_device_train_batch_size=16,\n",
    "    per_device_eval_batch_size=16,\n",
    "    num_train_epochs=3,\n",
    "    weight_decay=0.01,\n",
    "    # evaluation_strategy=\"epoch\",    \n",
    "    # save_strategy=\"epoch\",          \n",
    "    logging_dir='./logs',\n",
    "    # load_best_model_at_end=True,    \n",
    "    # metric_for_best_model=\"accuracy\"\n",
    ")\n",
    "\n",
    "# Initialize trainer\n",
    "trainer = Trainer(\n",
    "    model=model,\n",
    "    args=training_args,\n",
    "    train_dataset=train_dataset,\n",
    "    eval_dataset=test_dataset,\n",
    "    compute_metrics=compute_metrics,\n",
    ")\n",
    "\n",
    "# Train and evaluate\n",
    "trainer.train()\n",
    "eval_results = trainer.evaluate()\n",
    "print(f\"Evaluation results: {eval_results}\")"
   ]
  },
  {
   "cell_type": "markdown",
   "id": "0d7db50a-6d6d-401c-a143-6013de5b8e54",
   "metadata": {},
   "source": [
    "### Output\n",
    "- **Accuracy**: 86.68%\n",
    "- **F1 Score**: 86.04%\n",
    "- **Precision**: 90.30%\n",
    "- **Recall**: 82.16%\n",
    "- **Runtime**: ~251 seconds\n",
    "\n",
    "That represents the simplicity and excellent performance of DistilBERT because it can easily accomplish NLP tasks with the help of the Hugging Face ecosystem."
   ]
  },
  {
   "cell_type": "markdown",
   "id": "1ffcfb1e-d464-4bf2-941c-a5ca24797e71",
   "metadata": {},
   "source": [
    "## How DistilBERT Compares to Others\n",
    "- **TinyBERT**: It uses a bit more involved distillation method, like matching losses across layers and aligning embeddings. It can give better accuracy on some benchmarks, but it’s kinda trickier to train. The smaller version (TinyBERT-small, 4 layers) gets around ~79 on the GLUE score, and it's only like 14.5M parameters.\n",
    "- **MobileBERT**: Built with these bottleneck-type structures and some mobile-friendly tweaks (like inverted bottlenecks). Even though it has 25M parameters, it actually beats DistilBERT on quite a few tasks, thanks to how its architecture is designed.\n",
    "- **ALBERT**: It shrinks model size by reusing parameters across layers and breaking down embeddings into smaller pieces. Technically not a distilled model, but ALBERT-base still gets performance close to regular BERT on GLUE, using fewer parameters.\n",
    "\n",
    "| Model         | Parameters | GLUE Score | Inference Speed | Notes                           |\n",
    "|---------------|------------|------------|------------------|----------------------------------|\n",
    "| BERT-base     | 110M       | 79.5       | Slow             | Full model                      |\n",
    "| DistilBERT    | 66M        | ~77        | 1.6x faster      | Triple loss distillation        |\n",
    "| TinyBERT-4L   | 14.5M      | ~79        | 2x faster        | Embedding + hidden state distil |\n",
    "| MobileBERT    | 25M        | ~81.5      | Very fast        | Mobile-optimized bottlenecks    |\n",
    "| ALBERT-base   | 12M        | 80.1       | Fast             | Shared weights, no distillation |\n",
    "\n",
    "This comparison kinda shows the trade-offs—DistilBERT is simpler and works well with Hugging Face stuff, while models like TinyBERT or MobileBERT go more all-in on squeezing out better performance or efficiency using trickier techniques.\n"
   ]
  },
  {
   "cell_type": "markdown",
   "id": "be777b79-43ad-451d-9209-e85575fc0b6a",
   "metadata": {},
   "source": [
    "## Deeper Analysis: Uncovering DistilBERT’s Strengths and Limits\n",
    "\n",
    "To go beyond the paper, let’s analyze DistilBERT’s efficiency and behavior with new experiments, offering insights for practitioners."
   ]
  },
  {
   "cell_type": "markdown",
   "id": "1fc6bae2-de42-4e42-9715-bfade88a0c49",
   "metadata": {},
   "source": [
    "### Model Size Comparison\n",
    "\n",
    "The major advantage of DistilBERT is its size 40 percent smaller. Let us check by counting parameters:"
   ]
  },
  {
   "cell_type": "code",
   "execution_count": 6,
   "id": "368ab5d4-60bf-41f4-9be7-53f373748162",
   "metadata": {},
   "outputs": [
    {
     "name": "stderr",
     "output_type": "stream",
     "text": [
      "Some weights of DistilBertForSequenceClassification were not initialized from the model checkpoint at distilbert-base-uncased and are newly initialized: ['classifier.bias', 'classifier.weight', 'pre_classifier.bias', 'pre_classifier.weight']\n",
      "You should probably TRAIN this model on a down-stream task to be able to use it for predictions and inference.\n",
      "Some weights of BertForSequenceClassification were not initialized from the model checkpoint at bert-base-uncased and are newly initialized: ['classifier.bias', 'classifier.weight']\n",
      "You should probably TRAIN this model on a down-stream task to be able to use it for predictions and inference.\n"
     ]
    },
    {
     "name": "stdout",
     "output_type": "stream",
     "text": [
      "DistilBERT parameters: 66955010\n",
      "BERT parameters: 109483778\n"
     ]
    }
   ],
   "source": [
    "def count_parameters(model):\n",
    "    return sum(p.numel() for p in model.parameters() if p.requires_grad)\n",
    "\n",
    "from transformers import BertForSequenceClassification\n",
    "distilbert_model = DistilBertForSequenceClassification.from_pretrained('distilbert-base-uncased')\n",
    "bert_model = BertForSequenceClassification.from_pretrained('bert-base-uncased')\n",
    "\n",
    "print(f\"DistilBERT parameters: {count_parameters(distilbert_model)}\")\n",
    "print(f\"BERT parameters: {count_parameters(bert_model)}\")"
   ]
  },
  {
   "cell_type": "markdown",
   "id": "6331e6b6-8d4c-48ad-bd83-18af8b1ab4a2",
   "metadata": {},
   "source": [
    "**Output**:\n",
    "- DistilBERT: ~66 million parameters\n",
    "- BERT: ~110 million parameters\n",
    "\n",
    "This confirms the 40% reduction, making DistilBERT ideal for resource-constrained environments."
   ]
  },
  {
   "cell_type": "markdown",
   "id": "034acae1-b7c8-4f54-b9ad-964e2627d4f0",
   "metadata": {},
   "source": [
    "### Inference Time Comparison\n",
    "\n",
    "Let’s measure inference time for a batch of 32 sentences to verify DistilBERT’s speed:"
   ]
  },
  {
   "cell_type": "code",
   "execution_count": 8,
   "id": "70a4fb41-64ca-44fb-9c29-dda968123e83",
   "metadata": {},
   "outputs": [
    {
     "name": "stdout",
     "output_type": "stream",
     "text": [
      "DistilBERT inference time: 0.25121426582336426 seconds\n",
      "BERT inference time: 0.5188138484954834 seconds\n"
     ]
    }
   ],
   "source": [
    "import time\n",
    "\n",
    "# Tokenize normally first\n",
    "inputs = tokenizer([\"This is a test sentence.\"] * 32, return_tensors=\"pt\", padding=True, truncation=True)\n",
    "\n",
    "# Move each tensor to the correct device\n",
    "inputs = {k: v.to(\"cpu\") for k, v in inputs.items()}\n",
    "\n",
    "# DistilBERT inference\n",
    "start = time.time()\n",
    "with torch.no_grad():\n",
    "    outputs = distilbert_model(**inputs)\n",
    "end = time.time()\n",
    "print(f\"DistilBERT inference time: {end - start} seconds\")\n",
    "\n",
    "# BERT inference\n",
    "start = time.time()\n",
    "with torch.no_grad():\n",
    "    outputs = bert_model(**inputs)\n",
    "end = time.time()\n",
    "print(f\"BERT inference time: {end - start} seconds\")"
   ]
  },
  {
   "cell_type": "markdown",
   "id": "c9c96bc1-4812-4cc0-8728-4efc11e8f354",
   "metadata": {},
   "source": [
    "**Note**: Times vary by hardware, but expect DistilBERT to be ~60% faster, as reported in the paper (410s vs. 668s for STS-B)."
   ]
  },
  {
   "cell_type": "markdown",
   "id": "13a5bb59-b3ac-468a-93ac-47c920b3e42d",
   "metadata": {},
   "source": [
    "### Attention Visualization\n",
    "\n",
    "To understand DistilBERT’s focus, let’s visualize attention weights for a sample input:"
   ]
  },
  {
   "cell_type": "code",
   "execution_count": 10,
   "id": "2009c16c-6f0c-416b-bdde-221047bdbc0e",
   "metadata": {},
   "outputs": [
    {
     "name": "stderr",
     "output_type": "stream",
     "text": [
      "huggingface/tokenizers: The current process just got forked, after parallelism has already been used. Disabling parallelism to avoid deadlocks...\n",
      "To disable this warning, you can either:\n",
      "\t- Avoid using `tokenizers` before the fork if possible\n",
      "\t- Explicitly set the environment variable TOKENIZERS_PARALLELISM=(true | false)\n",
      "DistilBertSdpaAttention is used but `torch.nn.functional.scaled_dot_product_attention` does not support `output_attentions=True` or `head_mask`. Falling back to the manual attention implementation, but specifying the manual implementation will be required from Transformers version v5.0.0 onwards. This warning can be removed using the argument `attn_implementation=\"eager\"` when loading the model.\n"
     ]
    },
    {
     "data": {
      "image/png": "[encoded data removed]",
      "text/plain": [
       "<Figure size 1000x800 with 2 Axes>"
      ]
     },
     "metadata": {},
     "output_type": "display_data"
    }
   ],
   "source": [
    "import numpy as np\n",
    "import matplotlib.pyplot as plt\n",
    "import seaborn as sns\n",
    "\n",
    "# Sample input\n",
    "sample_text = \"This movie is absolutely fantastic!\"\n",
    "inputs = tokenizer(sample_text, return_tensors=\"pt\")\n",
    "inputs = {k: v.to(\"cpu\") for k, v in inputs.items()}\n",
    "\n",
    "# Forward pass with attention outputs\n",
    "outputs = distilbert_model(**inputs, output_attentions=True)\n",
    "attentions = outputs.attentions[0][0, 0].detach().cpu().numpy()  # Layer 0, Head 0\n",
    "\n",
    "# Convert token IDs to tokens for labels\n",
    "tokens = tokenizer.convert_ids_to_tokens(inputs['input_ids'][0])\n",
    "\n",
    "# Plot heatmap\n",
    "plt.figure(figsize=(10, 8))\n",
    "sns.heatmap(attentions, xticklabels=tokens, yticklabels=tokens, cmap='viridis', annot=True)\n",
    "plt.title(\"DistilBERT Attention Weights (Layer 1, Head 1)\")\n",
    "plt.show()\n"
   ]
  },
  {
   "cell_type": "markdown",
   "id": "cf4e56fb-184e-4c53-a4e6-705c5cc9717e",
   "metadata": {},
   "source": [
    "This heatmap will show you what tokens DistilBERT pays attention to, demonstrating that it puts most of its interest in the words such as \"fantastic\" and can help to develop an understanding of how it makes decisions regarding sentiment prediction."
   ]
  },
  {
   "cell_type": "markdown",
   "id": "1d3c2272-a285-402b-8424-d14fff1254d0",
   "metadata": {},
   "source": [
    "### Error Analysis\n",
    "\n",
    "To uncover limitations, let’s examine misclassified examples from the IMDb test set:"
   ]
  },
  {
   "cell_type": "code",
   "execution_count": 12,
   "id": "c6977bac-3d0f-4971-b889-5d7f6bd8dd96",
   "metadata": {},
   "outputs": [
    {
     "name": "stderr",
     "output_type": "stream",
     "text": [
      "/opt/anaconda3/lib/python3.12/site-packages/torch/utils/data/dataloader.py:683: UserWarning: 'pin_memory' argument is set as true but not supported on MPS now, then device pinned memory won't be used.\n",
      "  warnings.warn(warn_msg)\n"
     ]
    },
    {
     "name": "stdout",
     "output_type": "stream",
     "text": [
      "Text: First off let me say, If you haven't enjoyed a Van Damme movie since bloodsport, you probably will n...\n",
      "Predicted: Positive, Actual: Negative\n",
      "\n",
      "Text: Ben, (Rupert Grint), is a deeply unhappy adolescent, the son of his unhappily married parents. His f...\n",
      "Predicted: Positive, Actual: Negative\n",
      "\n"
     ]
    }
   ],
   "source": [
    "predictions = trainer.predict(test_dataset)\n",
    "preds = predictions.predictions.argmax(-1)\n",
    "labels = predictions.label_ids\n",
    "texts = dataset[\"test\"][\"text\"]\n",
    "\n",
    "misclassified = [(texts[i], preds[i], labels[i]) for i in range(len(preds)) if preds[i] != labels[i]]\n",
    "for text, pred, label in misclassified[:2]:\n",
    "    print(f\"Text: {text[:100]}...\")\n",
    "    print(f\"Predicted: {'Positive' if pred == 1 else 'Negative'}, Actual: {'Positive' if label == 1 else 'Negative'}\\n\")"
   ]
  },
  {
   "cell_type": "markdown",
   "id": "83b96ee0-0535-40b5-b80d-e863e17881d0",
   "metadata": {},
   "source": [
    "These examples kinda show where DistilBERT can mess up—especially with sarcastic stuff, tricky context, or when a review swings between positive and negative. Like, sometimes a sentence starts off sounding nice but ends with a dig, or the other way around, and the model ends up picking up the wrong part.\n",
    "\n",
    "That’s not too surprising though, since it’s a smaller, distilled version. It’s faster and lighter, yeah, but it doesn’t quite have the same level of deep understanding that full-sized BERT does.\n",
    "\n",
    "\n",
    "### Key Observed Limitations:\n",
    "\n",
    "- **Fewer layers = less nuance**  \n",
    "  With just 6 layers instead of BERT’s 12, DistilBERT kinda struggles with capturing long-range stuff, especially in longer or wordy reviews.\n",
    "\n",
    "- **No token-type embeddings**  \n",
    "  This makes the model simpler, sure, but it also means it can’t really tell the difference between sentence relationships like BERT can.\n",
    "\n",
    "- **Smoothed learning**  \n",
    "  Since it’s trained by copying softened outputs from a bigger model, it tends to generalize okay—but that also means it might miss edge cases or the subtle stuff.\n"
   ]
  },
  {
   "cell_type": "markdown",
   "id": "895d3418-0647-450f-b104-562a7c536890",
   "metadata": {},
   "source": [
    "### Insights\n",
    "- **Efficiency Trade-off**: DistilBERT is more scalable to the requirements of an edge environment through a reduction of its size and speed, but the marginal impact on performance (e.g., 2.5 points on GLUE) calls into question its suitability to complex tasks.\n",
    "- **Generalization**: Good generalization will be achieved through the distillation process, as is evident within IMDb and SQuAD, yet the error analysis can point out the areas where it is weak.\n",
    "- **Practicality**: Hugging Face’s ecosystem makes DistilBERT accessible, as shown in the code."
   ]
  },
  {
   "cell_type": "markdown",
   "id": "da8fcaa0-3e31-46e0-83e9-bdcb1feaba26",
   "metadata": {},
   "source": [
    "## Conclusion: Why DistilBERT Matters for NLP\n",
    "\n",
    "**DistilBERT** is the landmark in scalable NLP, compressing the size and inference speed of BERT to 40 percent without much compromise on the accuracy (97 percent performance). Its knowledge distillation application creates possibilities of on-device applications and saves the environment. By 2025 it continues to have an impact in model compression studies and in frameworks such as Hugging Face Transformers.\n",
    "\n",
    "To learn more, read the paper on[arXiv:1910.01108](https://arxiv.org/abs/1910.01108) and the code at [Hugging Face’s GitHub](https://github.com/huggingface/transformers). DistilBERT proves that in NLP, less can be more!"
   ]
  }
 ],
 "metadata": {
  "kernelspec": {
   "display_name": "Python [conda env:base] *",
   "language": "python",
   "name": "conda-base-py"
  },
  "language_info": {
   "codemirror_mode": {
    "name": "ipython",
    "version": 3
   },
   "file_extension": ".py",
   "mimetype": "text/x-python",
   "name": "python",
   "nbconvert_exporter": "python",
   "pygments_lexer": "ipython3",
   "version": "3.12.7"
  }
 },
 "nbformat": 4,
 "nbformat_minor": 5
}
